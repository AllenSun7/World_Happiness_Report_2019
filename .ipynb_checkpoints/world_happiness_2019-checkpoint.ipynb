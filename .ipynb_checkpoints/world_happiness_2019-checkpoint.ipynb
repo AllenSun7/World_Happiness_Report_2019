{
 "cells": [
  {
   "cell_type": "code",
   "execution_count": 1,
   "metadata": {
    "ExecuteTime": {
     "end_time": "2020-07-23T14:08:47.239802Z",
     "start_time": "2020-07-23T14:08:46.433362Z"
    }
   },
   "outputs": [],
   "source": [
    "import numpy as np\n",
    "import pandas as pd\n",
    "import seaborn as sns\n",
    "import matplotlib.pyplot as plt\n",
    "from pandas.plotting import scatter_matrix\n",
    "from sklearn.impute import SimpleImputer\n",
    "from sklearn.model_selection import train_test_split\n",
    "from sklearn.preprocessing import StandardScaler\n",
    "from sklearn.linear_model import LinearRegression\n",
    "from sklearn.tree import DecisionTreeRegressor\n",
    "from sklearn.ensemble import RandomForestRegressor\n",
    "\n",
    "from sklearn import metrics"
   ]
  },
  {
   "cell_type": "markdown",
   "metadata": {},
   "source": [
    "# Data Visualization & Preprocess"
   ]
  },
  {
   "cell_type": "markdown",
   "metadata": {},
   "source": [
    "## Data load"
   ]
  },
  {
   "cell_type": "code",
   "execution_count": 2,
   "metadata": {
    "ExecuteTime": {
     "end_time": "2020-07-23T14:08:47.261882Z",
     "start_time": "2020-07-23T14:08:47.241811Z"
    }
   },
   "outputs": [
    {
     "data": {
      "text/html": [
       "<div>\n",
       "<style scoped>\n",
       "    .dataframe tbody tr th:only-of-type {\n",
       "        vertical-align: middle;\n",
       "    }\n",
       "\n",
       "    .dataframe tbody tr th {\n",
       "        vertical-align: top;\n",
       "    }\n",
       "\n",
       "    .dataframe thead th {\n",
       "        text-align: right;\n",
       "    }\n",
       "</style>\n",
       "<table border=\"1\" class=\"dataframe\">\n",
       "  <thead>\n",
       "    <tr style=\"text-align: right;\">\n",
       "      <th></th>\n",
       "      <th>Country (region)</th>\n",
       "      <th>Ladder</th>\n",
       "      <th>SD of Ladder</th>\n",
       "      <th>Positive affect</th>\n",
       "      <th>Negative affect</th>\n",
       "      <th>Social support</th>\n",
       "      <th>Freedom</th>\n",
       "      <th>Corruption</th>\n",
       "      <th>Generosity</th>\n",
       "      <th>Log of GDP\\nper capita</th>\n",
       "      <th>Healthy life\\nexpectancy</th>\n",
       "    </tr>\n",
       "  </thead>\n",
       "  <tbody>\n",
       "    <tr>\n",
       "      <th>0</th>\n",
       "      <td>Finland</td>\n",
       "      <td>1</td>\n",
       "      <td>4</td>\n",
       "      <td>41.0</td>\n",
       "      <td>10.0</td>\n",
       "      <td>2.0</td>\n",
       "      <td>5.0</td>\n",
       "      <td>4.0</td>\n",
       "      <td>47.0</td>\n",
       "      <td>22.0</td>\n",
       "      <td>27.0</td>\n",
       "    </tr>\n",
       "    <tr>\n",
       "      <th>1</th>\n",
       "      <td>Denmark</td>\n",
       "      <td>2</td>\n",
       "      <td>13</td>\n",
       "      <td>24.0</td>\n",
       "      <td>26.0</td>\n",
       "      <td>4.0</td>\n",
       "      <td>6.0</td>\n",
       "      <td>3.0</td>\n",
       "      <td>22.0</td>\n",
       "      <td>14.0</td>\n",
       "      <td>23.0</td>\n",
       "    </tr>\n",
       "    <tr>\n",
       "      <th>2</th>\n",
       "      <td>Norway</td>\n",
       "      <td>3</td>\n",
       "      <td>8</td>\n",
       "      <td>16.0</td>\n",
       "      <td>29.0</td>\n",
       "      <td>3.0</td>\n",
       "      <td>3.0</td>\n",
       "      <td>8.0</td>\n",
       "      <td>11.0</td>\n",
       "      <td>7.0</td>\n",
       "      <td>12.0</td>\n",
       "    </tr>\n",
       "    <tr>\n",
       "      <th>3</th>\n",
       "      <td>Iceland</td>\n",
       "      <td>4</td>\n",
       "      <td>9</td>\n",
       "      <td>3.0</td>\n",
       "      <td>3.0</td>\n",
       "      <td>1.0</td>\n",
       "      <td>7.0</td>\n",
       "      <td>45.0</td>\n",
       "      <td>3.0</td>\n",
       "      <td>15.0</td>\n",
       "      <td>13.0</td>\n",
       "    </tr>\n",
       "    <tr>\n",
       "      <th>4</th>\n",
       "      <td>Netherlands</td>\n",
       "      <td>5</td>\n",
       "      <td>1</td>\n",
       "      <td>12.0</td>\n",
       "      <td>25.0</td>\n",
       "      <td>15.0</td>\n",
       "      <td>19.0</td>\n",
       "      <td>12.0</td>\n",
       "      <td>7.0</td>\n",
       "      <td>12.0</td>\n",
       "      <td>18.0</td>\n",
       "    </tr>\n",
       "    <tr>\n",
       "      <th>...</th>\n",
       "      <td>...</td>\n",
       "      <td>...</td>\n",
       "      <td>...</td>\n",
       "      <td>...</td>\n",
       "      <td>...</td>\n",
       "      <td>...</td>\n",
       "      <td>...</td>\n",
       "      <td>...</td>\n",
       "      <td>...</td>\n",
       "      <td>...</td>\n",
       "      <td>...</td>\n",
       "    </tr>\n",
       "    <tr>\n",
       "      <th>151</th>\n",
       "      <td>Rwanda</td>\n",
       "      <td>152</td>\n",
       "      <td>63</td>\n",
       "      <td>54.0</td>\n",
       "      <td>102.0</td>\n",
       "      <td>144.0</td>\n",
       "      <td>21.0</td>\n",
       "      <td>2.0</td>\n",
       "      <td>90.0</td>\n",
       "      <td>132.0</td>\n",
       "      <td>103.0</td>\n",
       "    </tr>\n",
       "    <tr>\n",
       "      <th>152</th>\n",
       "      <td>Tanzania</td>\n",
       "      <td>153</td>\n",
       "      <td>122</td>\n",
       "      <td>78.0</td>\n",
       "      <td>50.0</td>\n",
       "      <td>131.0</td>\n",
       "      <td>78.0</td>\n",
       "      <td>34.0</td>\n",
       "      <td>49.0</td>\n",
       "      <td>125.0</td>\n",
       "      <td>118.0</td>\n",
       "    </tr>\n",
       "    <tr>\n",
       "      <th>153</th>\n",
       "      <td>Afghanistan</td>\n",
       "      <td>154</td>\n",
       "      <td>25</td>\n",
       "      <td>152.0</td>\n",
       "      <td>133.0</td>\n",
       "      <td>151.0</td>\n",
       "      <td>155.0</td>\n",
       "      <td>136.0</td>\n",
       "      <td>137.0</td>\n",
       "      <td>134.0</td>\n",
       "      <td>139.0</td>\n",
       "    </tr>\n",
       "    <tr>\n",
       "      <th>154</th>\n",
       "      <td>Central African Republic</td>\n",
       "      <td>155</td>\n",
       "      <td>117</td>\n",
       "      <td>132.0</td>\n",
       "      <td>153.0</td>\n",
       "      <td>155.0</td>\n",
       "      <td>133.0</td>\n",
       "      <td>122.0</td>\n",
       "      <td>113.0</td>\n",
       "      <td>152.0</td>\n",
       "      <td>150.0</td>\n",
       "    </tr>\n",
       "    <tr>\n",
       "      <th>155</th>\n",
       "      <td>South Sudan</td>\n",
       "      <td>156</td>\n",
       "      <td>140</td>\n",
       "      <td>127.0</td>\n",
       "      <td>152.0</td>\n",
       "      <td>148.0</td>\n",
       "      <td>154.0</td>\n",
       "      <td>61.0</td>\n",
       "      <td>85.0</td>\n",
       "      <td>140.0</td>\n",
       "      <td>143.0</td>\n",
       "    </tr>\n",
       "  </tbody>\n",
       "</table>\n",
       "<p>156 rows × 11 columns</p>\n",
       "</div>"
      ],
      "text/plain": [
       "             Country (region)  Ladder  SD of Ladder  Positive affect  \\\n",
       "0                     Finland       1             4             41.0   \n",
       "1                     Denmark       2            13             24.0   \n",
       "2                      Norway       3             8             16.0   \n",
       "3                     Iceland       4             9              3.0   \n",
       "4                 Netherlands       5             1             12.0   \n",
       "..                        ...     ...           ...              ...   \n",
       "151                    Rwanda     152            63             54.0   \n",
       "152                  Tanzania     153           122             78.0   \n",
       "153               Afghanistan     154            25            152.0   \n",
       "154  Central African Republic     155           117            132.0   \n",
       "155               South Sudan     156           140            127.0   \n",
       "\n",
       "     Negative affect  Social support  Freedom  Corruption  Generosity  \\\n",
       "0               10.0             2.0      5.0         4.0        47.0   \n",
       "1               26.0             4.0      6.0         3.0        22.0   \n",
       "2               29.0             3.0      3.0         8.0        11.0   \n",
       "3                3.0             1.0      7.0        45.0         3.0   \n",
       "4               25.0            15.0     19.0        12.0         7.0   \n",
       "..               ...             ...      ...         ...         ...   \n",
       "151            102.0           144.0     21.0         2.0        90.0   \n",
       "152             50.0           131.0     78.0        34.0        49.0   \n",
       "153            133.0           151.0    155.0       136.0       137.0   \n",
       "154            153.0           155.0    133.0       122.0       113.0   \n",
       "155            152.0           148.0    154.0        61.0        85.0   \n",
       "\n",
       "     Log of GDP\\nper capita  Healthy life\\nexpectancy  \n",
       "0                      22.0                      27.0  \n",
       "1                      14.0                      23.0  \n",
       "2                       7.0                      12.0  \n",
       "3                      15.0                      13.0  \n",
       "4                      12.0                      18.0  \n",
       "..                      ...                       ...  \n",
       "151                   132.0                     103.0  \n",
       "152                   125.0                     118.0  \n",
       "153                   134.0                     139.0  \n",
       "154                   152.0                     150.0  \n",
       "155                   140.0                     143.0  \n",
       "\n",
       "[156 rows x 11 columns]"
      ]
     },
     "execution_count": 2,
     "metadata": {},
     "output_type": "execute_result"
    }
   ],
   "source": [
    "df = pd.read_csv(\"data/world-happiness-report-2019.csv\")\n",
    "df"
   ]
  },
  {
   "cell_type": "code",
   "execution_count": 3,
   "metadata": {
    "ExecuteTime": {
     "end_time": "2020-07-23T14:08:47.270748Z",
     "start_time": "2020-07-23T14:08:47.263760Z"
    }
   },
   "outputs": [
    {
     "name": "stdout",
     "output_type": "stream",
     "text": [
      "<class 'pandas.core.frame.DataFrame'>\n",
      "RangeIndex: 156 entries, 0 to 155\n",
      "Data columns (total 11 columns):\n",
      " #   Column                   Non-Null Count  Dtype  \n",
      "---  ------                   --------------  -----  \n",
      " 0   Country (region)         156 non-null    object \n",
      " 1   Ladder                   156 non-null    int64  \n",
      " 2   SD of Ladder             156 non-null    int64  \n",
      " 3   Positive affect          155 non-null    float64\n",
      " 4   Negative affect          155 non-null    float64\n",
      " 5   Social support           155 non-null    float64\n",
      " 6   Freedom                  155 non-null    float64\n",
      " 7   Corruption               148 non-null    float64\n",
      " 8   Generosity               155 non-null    float64\n",
      " 9   Log of GDP\n",
      "per capita    152 non-null    float64\n",
      " 10  Healthy life\n",
      "expectancy  150 non-null    float64\n",
      "dtypes: float64(8), int64(2), object(1)\n",
      "memory usage: 13.5+ KB\n"
     ]
    }
   ],
   "source": [
    "df.info()"
   ]
  },
  {
   "cell_type": "markdown",
   "metadata": {},
   "source": [
    "## Data preprocess"
   ]
  },
  {
   "cell_type": "code",
   "execution_count": 4,
   "metadata": {
    "ExecuteTime": {
     "end_time": "2020-07-23T14:08:47.277009Z",
     "start_time": "2020-07-23T14:08:47.272260Z"
    }
   },
   "outputs": [
    {
     "data": {
      "text/plain": [
       "Country (region)            0\n",
       "Ladder                      0\n",
       "SD of Ladder                0\n",
       "Positive affect             1\n",
       "Negative affect             1\n",
       "Social support              1\n",
       "Freedom                     1\n",
       "Corruption                  8\n",
       "Generosity                  1\n",
       "Log of GDP\\nper capita      4\n",
       "Healthy life\\nexpectancy    6\n",
       "dtype: int64"
      ]
     },
     "execution_count": 4,
     "metadata": {},
     "output_type": "execute_result"
    }
   ],
   "source": [
    "df.isnull().sum()"
   ]
  },
  {
   "cell_type": "code",
   "execution_count": 5,
   "metadata": {
    "ExecuteTime": {
     "end_time": "2020-07-23T14:08:47.287387Z",
     "start_time": "2020-07-23T14:08:47.278491Z"
    }
   },
   "outputs": [
    {
     "data": {
      "text/plain": [
       "Country (region)            0\n",
       "Ladder                      0\n",
       "SD of Ladder                0\n",
       "Positive affect             0\n",
       "Negative affect             0\n",
       "Social support              0\n",
       "Freedom                     0\n",
       "Corruption                  0\n",
       "Generosity                  0\n",
       "Log of GDP\\nper capita      0\n",
       "Healthy life\\nexpectancy    0\n",
       "dtype: int64"
      ]
     },
     "execution_count": 5,
     "metadata": {},
     "output_type": "execute_result"
    }
   ],
   "source": [
    "# replace nan with mean\n",
    "df.fillna(df.mean(), inplace=True)\n",
    "df.isnull().sum()"
   ]
  },
  {
   "cell_type": "markdown",
   "metadata": {},
   "source": [
    "### Add continent column"
   ]
  },
  {
   "cell_type": "code",
   "execution_count": 6,
   "metadata": {
    "ExecuteTime": {
     "end_time": "2020-07-23T14:08:47.300323Z",
     "start_time": "2020-07-23T14:08:47.289023Z"
    }
   },
   "outputs": [],
   "source": [
    "asia = [\"Israel\", \"United Arab Emirates\", \"Singapore\", \"Thailand\", \"Taiwan Province of China\",\n",
    "        \"Qatar\", \"Saudi Arabia\", \"Kuwait\", \"Bahrain\", \"Malaysia\", \"Uzbekistan\", \"Japan\",\n",
    "        \"South Korea\", \"Turkmenistan\", \"Kazakhstan\", \"Turkey\", \"Hong Kong S.A.R., China\", \"Philippines\",\n",
    "        \"Jordan\", \"China\", \"Pakistan\", \"Indonesia\", \"Azerbaijan\", \"Lebanon\", \"Vietnam\",\n",
    "        \"Tajikistan\", \"Bhutan\", \"Kyrgyzstan\", \"Nepal\", \"Mongolia\", \"Palestinian Territories\",\n",
    "        \"Iran\", \"Bangladesh\", \"Myanmar\", \"Iraq\", \"Sri Lanka\", \"Armenia\", \"India\", \"Georgia\",\n",
    "        \"Cambodia\", \"Afghanistan\", \"Yemen\", \"Syria\"]\n",
    "europe = [\"Norway\", \"Denmark\", \"Iceland\", \"Switzerland\", \"Finland\",\n",
    "          \"Netherlands\", \"Sweden\", \"Austria\", \"Ireland\", \"Germany\",\n",
    "          \"Belgium\", \"Luxembourg\", \"United Kingdom\", \"Czech Republic\",\n",
    "          \"Malta\", \"France\", \"Spain\", \"Slovakia\", \"Poland\", \"Italy\",\n",
    "          \"Russia\", \"Lithuania\", \"Latvia\", \"Moldova\", \"Romania\",\n",
    "          \"Slovenia\", \"North Cyprus\", \"Cyprus\", \"Estonia\", \"Belarus\",\n",
    "          \"Serbia\", \"Hungary\", \"Croatia\", \"Kosovo\", \"Montenegro\",\n",
    "          \"Greece\", \"Portugal\", \"Bosnia and Herzegovina\", \"Macedonia\",\n",
    "          \"Bulgaria\", \"Albania\", \"Ukraine\"]\n",
    "north_america = [\"Canada\", \"Costa Rica\", \"United States\", \"Mexico\",\n",
    "                 \"Panama\", \"Trinidad and Tobago\", \"El Salvador\", \"Belize\", \"Guatemala\",\n",
    "                 \"Jamaica\", \"Nicaragua\", \"Dominican Republic\", \"Honduras\",\n",
    "                 \"Haiti\"]\n",
    "south_america = [\"Chile\", \"Brazil\", \"Argentina\", \"Uruguay\",\n",
    "                 \"Colombia\", \"Ecuador\", \"Bolivia\", \"Peru\",\n",
    "                 \"Paraguay\", \"Venezuela\"]\n",
    "australia = [\"New Zealand\", \"Australia\"]\n",
    "d_asia = dict.fromkeys(asia, 'Asia')\n",
    "d_europe = dict.fromkeys(europe, 'Europe')\n",
    "d_north_america = dict.fromkeys(north_america, 'North America')\n",
    "d_south_america = dict.fromkeys(south_america, 'South America')\n",
    "d_australia = dict.fromkeys(australia, 'Australia')\n",
    "continent_dict = {**d_asia, **d_europe, **d_north_america, **d_south_america, **d_australia}\n",
    "df[\"continent\"] = df[\"Country (region)\"].map(continent_dict)\n",
    "df.continent.fillna(\"Africa\", inplace=True)"
   ]
  },
  {
   "cell_type": "code",
   "execution_count": 7,
   "metadata": {
    "ExecuteTime": {
     "end_time": "2020-07-23T14:08:47.323280Z",
     "start_time": "2020-07-23T14:08:47.303939Z"
    }
   },
   "outputs": [
    {
     "data": {
      "text/html": [
       "<div>\n",
       "<style scoped>\n",
       "    .dataframe tbody tr th:only-of-type {\n",
       "        vertical-align: middle;\n",
       "    }\n",
       "\n",
       "    .dataframe tbody tr th {\n",
       "        vertical-align: top;\n",
       "    }\n",
       "\n",
       "    .dataframe thead th {\n",
       "        text-align: right;\n",
       "    }\n",
       "</style>\n",
       "<table border=\"1\" class=\"dataframe\">\n",
       "  <thead>\n",
       "    <tr style=\"text-align: right;\">\n",
       "      <th></th>\n",
       "      <th>Country (region)</th>\n",
       "      <th>Ladder</th>\n",
       "      <th>SD of Ladder</th>\n",
       "      <th>Positive affect</th>\n",
       "      <th>Negative affect</th>\n",
       "      <th>Social support</th>\n",
       "      <th>Freedom</th>\n",
       "      <th>Corruption</th>\n",
       "      <th>Generosity</th>\n",
       "      <th>Log of GDP\\nper capita</th>\n",
       "      <th>Healthy life\\nexpectancy</th>\n",
       "      <th>continent</th>\n",
       "    </tr>\n",
       "  </thead>\n",
       "  <tbody>\n",
       "    <tr>\n",
       "      <th>0</th>\n",
       "      <td>Finland</td>\n",
       "      <td>1</td>\n",
       "      <td>4</td>\n",
       "      <td>41.0</td>\n",
       "      <td>10.0</td>\n",
       "      <td>2.0</td>\n",
       "      <td>5.0</td>\n",
       "      <td>4.0</td>\n",
       "      <td>47.0</td>\n",
       "      <td>22.0</td>\n",
       "      <td>27.0</td>\n",
       "      <td>Europe</td>\n",
       "    </tr>\n",
       "    <tr>\n",
       "      <th>1</th>\n",
       "      <td>Denmark</td>\n",
       "      <td>2</td>\n",
       "      <td>13</td>\n",
       "      <td>24.0</td>\n",
       "      <td>26.0</td>\n",
       "      <td>4.0</td>\n",
       "      <td>6.0</td>\n",
       "      <td>3.0</td>\n",
       "      <td>22.0</td>\n",
       "      <td>14.0</td>\n",
       "      <td>23.0</td>\n",
       "      <td>Europe</td>\n",
       "    </tr>\n",
       "    <tr>\n",
       "      <th>2</th>\n",
       "      <td>Norway</td>\n",
       "      <td>3</td>\n",
       "      <td>8</td>\n",
       "      <td>16.0</td>\n",
       "      <td>29.0</td>\n",
       "      <td>3.0</td>\n",
       "      <td>3.0</td>\n",
       "      <td>8.0</td>\n",
       "      <td>11.0</td>\n",
       "      <td>7.0</td>\n",
       "      <td>12.0</td>\n",
       "      <td>Europe</td>\n",
       "    </tr>\n",
       "    <tr>\n",
       "      <th>3</th>\n",
       "      <td>Iceland</td>\n",
       "      <td>4</td>\n",
       "      <td>9</td>\n",
       "      <td>3.0</td>\n",
       "      <td>3.0</td>\n",
       "      <td>1.0</td>\n",
       "      <td>7.0</td>\n",
       "      <td>45.0</td>\n",
       "      <td>3.0</td>\n",
       "      <td>15.0</td>\n",
       "      <td>13.0</td>\n",
       "      <td>Europe</td>\n",
       "    </tr>\n",
       "    <tr>\n",
       "      <th>4</th>\n",
       "      <td>Netherlands</td>\n",
       "      <td>5</td>\n",
       "      <td>1</td>\n",
       "      <td>12.0</td>\n",
       "      <td>25.0</td>\n",
       "      <td>15.0</td>\n",
       "      <td>19.0</td>\n",
       "      <td>12.0</td>\n",
       "      <td>7.0</td>\n",
       "      <td>12.0</td>\n",
       "      <td>18.0</td>\n",
       "      <td>Europe</td>\n",
       "    </tr>\n",
       "    <tr>\n",
       "      <th>...</th>\n",
       "      <td>...</td>\n",
       "      <td>...</td>\n",
       "      <td>...</td>\n",
       "      <td>...</td>\n",
       "      <td>...</td>\n",
       "      <td>...</td>\n",
       "      <td>...</td>\n",
       "      <td>...</td>\n",
       "      <td>...</td>\n",
       "      <td>...</td>\n",
       "      <td>...</td>\n",
       "      <td>...</td>\n",
       "    </tr>\n",
       "    <tr>\n",
       "      <th>151</th>\n",
       "      <td>Rwanda</td>\n",
       "      <td>152</td>\n",
       "      <td>63</td>\n",
       "      <td>54.0</td>\n",
       "      <td>102.0</td>\n",
       "      <td>144.0</td>\n",
       "      <td>21.0</td>\n",
       "      <td>2.0</td>\n",
       "      <td>90.0</td>\n",
       "      <td>132.0</td>\n",
       "      <td>103.0</td>\n",
       "      <td>Africa</td>\n",
       "    </tr>\n",
       "    <tr>\n",
       "      <th>152</th>\n",
       "      <td>Tanzania</td>\n",
       "      <td>153</td>\n",
       "      <td>122</td>\n",
       "      <td>78.0</td>\n",
       "      <td>50.0</td>\n",
       "      <td>131.0</td>\n",
       "      <td>78.0</td>\n",
       "      <td>34.0</td>\n",
       "      <td>49.0</td>\n",
       "      <td>125.0</td>\n",
       "      <td>118.0</td>\n",
       "      <td>Africa</td>\n",
       "    </tr>\n",
       "    <tr>\n",
       "      <th>153</th>\n",
       "      <td>Afghanistan</td>\n",
       "      <td>154</td>\n",
       "      <td>25</td>\n",
       "      <td>152.0</td>\n",
       "      <td>133.0</td>\n",
       "      <td>151.0</td>\n",
       "      <td>155.0</td>\n",
       "      <td>136.0</td>\n",
       "      <td>137.0</td>\n",
       "      <td>134.0</td>\n",
       "      <td>139.0</td>\n",
       "      <td>Asia</td>\n",
       "    </tr>\n",
       "    <tr>\n",
       "      <th>154</th>\n",
       "      <td>Central African Republic</td>\n",
       "      <td>155</td>\n",
       "      <td>117</td>\n",
       "      <td>132.0</td>\n",
       "      <td>153.0</td>\n",
       "      <td>155.0</td>\n",
       "      <td>133.0</td>\n",
       "      <td>122.0</td>\n",
       "      <td>113.0</td>\n",
       "      <td>152.0</td>\n",
       "      <td>150.0</td>\n",
       "      <td>Africa</td>\n",
       "    </tr>\n",
       "    <tr>\n",
       "      <th>155</th>\n",
       "      <td>South Sudan</td>\n",
       "      <td>156</td>\n",
       "      <td>140</td>\n",
       "      <td>127.0</td>\n",
       "      <td>152.0</td>\n",
       "      <td>148.0</td>\n",
       "      <td>154.0</td>\n",
       "      <td>61.0</td>\n",
       "      <td>85.0</td>\n",
       "      <td>140.0</td>\n",
       "      <td>143.0</td>\n",
       "      <td>Africa</td>\n",
       "    </tr>\n",
       "  </tbody>\n",
       "</table>\n",
       "<p>156 rows × 12 columns</p>\n",
       "</div>"
      ],
      "text/plain": [
       "             Country (region)  Ladder  SD of Ladder  Positive affect  \\\n",
       "0                     Finland       1             4             41.0   \n",
       "1                     Denmark       2            13             24.0   \n",
       "2                      Norway       3             8             16.0   \n",
       "3                     Iceland       4             9              3.0   \n",
       "4                 Netherlands       5             1             12.0   \n",
       "..                        ...     ...           ...              ...   \n",
       "151                    Rwanda     152            63             54.0   \n",
       "152                  Tanzania     153           122             78.0   \n",
       "153               Afghanistan     154            25            152.0   \n",
       "154  Central African Republic     155           117            132.0   \n",
       "155               South Sudan     156           140            127.0   \n",
       "\n",
       "     Negative affect  Social support  Freedom  Corruption  Generosity  \\\n",
       "0               10.0             2.0      5.0         4.0        47.0   \n",
       "1               26.0             4.0      6.0         3.0        22.0   \n",
       "2               29.0             3.0      3.0         8.0        11.0   \n",
       "3                3.0             1.0      7.0        45.0         3.0   \n",
       "4               25.0            15.0     19.0        12.0         7.0   \n",
       "..               ...             ...      ...         ...         ...   \n",
       "151            102.0           144.0     21.0         2.0        90.0   \n",
       "152             50.0           131.0     78.0        34.0        49.0   \n",
       "153            133.0           151.0    155.0       136.0       137.0   \n",
       "154            153.0           155.0    133.0       122.0       113.0   \n",
       "155            152.0           148.0    154.0        61.0        85.0   \n",
       "\n",
       "     Log of GDP\\nper capita  Healthy life\\nexpectancy continent  \n",
       "0                      22.0                      27.0    Europe  \n",
       "1                      14.0                      23.0    Europe  \n",
       "2                       7.0                      12.0    Europe  \n",
       "3                      15.0                      13.0    Europe  \n",
       "4                      12.0                      18.0    Europe  \n",
       "..                      ...                       ...       ...  \n",
       "151                   132.0                     103.0    Africa  \n",
       "152                   125.0                     118.0    Africa  \n",
       "153                   134.0                     139.0      Asia  \n",
       "154                   152.0                     150.0    Africa  \n",
       "155                   140.0                     143.0    Africa  \n",
       "\n",
       "[156 rows x 12 columns]"
      ]
     },
     "execution_count": 7,
     "metadata": {},
     "output_type": "execute_result"
    }
   ],
   "source": [
    "df"
   ]
  },
  {
   "cell_type": "markdown",
   "metadata": {},
   "source": [
    "## Data visualization"
   ]
  },
  {
   "cell_type": "code",
   "execution_count": 8,
   "metadata": {
    "ExecuteTime": {
     "end_time": "2020-07-23T14:08:47.816097Z",
     "start_time": "2020-07-23T14:08:47.325687Z"
    }
   },
   "outputs": [
    {
     "data": {
      "text/plain": [
       "<matplotlib.axes._subplots.AxesSubplot at 0x7fa638cee890>"
      ]
     },
     "execution_count": 8,
     "metadata": {},
     "output_type": "execute_result"
    },
    {
     "data": {
      "image/png": "[encoded data removed]",
      "text/plain": [
       "<Figure size 864x576 with 2 Axes>"
      ]
     },
     "metadata": {},
     "output_type": "display_data"
    }
   ],
   "source": [
    "# heatmap using seaborn\n",
    "# set the context for plotting\n",
    "sns.set(context=\"paper\", font=\"monospace\")\n",
    "# set the matplotlib figure\n",
    "fig, axe = plt.subplots(figsize=(12, 8))\n",
    "# Generate color palettes\n",
    "cmap = sns.diverging_palette(220, 10, center=\"light\", as_cmap=True)\n",
    "# draw the heatmap\n",
    "sns.heatmap(df.corr(), vmax=1, square=True, cmap=cmap, annot=True)"
   ]
  },
  {
   "cell_type": "code",
   "execution_count": 9,
   "metadata": {
    "ExecuteTime": {
     "end_time": "2020-07-23T14:08:48.062113Z",
     "start_time": "2020-07-23T14:08:47.818226Z"
    }
   },
   "outputs": [
    {
     "data": {
      "text/plain": [
       "<matplotlib.axes._subplots.AxesSubplot at 0x7fa638dbcfd0>"
      ]
     },
     "execution_count": 9,
     "metadata": {},
     "output_type": "execute_result"
    },
    {
     "data": {
      "image/png": "[encoded data removed]",
      "text/plain": [
       "<Figure size 432x288 with 1 Axes>"
      ]
     },
     "metadata": {},
     "output_type": "display_data"
    }
   ],
   "source": [
    "# Continent boxplot\n",
    "sns.boxplot(x=\"Ladder\", y=\"continent\", data=df)"
   ]
  },
  {
   "cell_type": "markdown",
   "metadata": {},
   "source": [
    "# Model"
   ]
  },
  {
   "cell_type": "markdown",
   "metadata": {},
   "source": [
    "## Dataset "
   ]
  },
  {
   "cell_type": "code",
   "execution_count": 10,
   "metadata": {
    "ExecuteTime": {
     "end_time": "2020-07-23T14:08:48.075014Z",
     "start_time": "2020-07-23T14:08:48.064429Z"
    }
   },
   "outputs": [
    {
     "data": {
      "text/html": [
       "<div>\n",
       "<style scoped>\n",
       "    .dataframe tbody tr th:only-of-type {\n",
       "        vertical-align: middle;\n",
       "    }\n",
       "\n",
       "    .dataframe tbody tr th {\n",
       "        vertical-align: top;\n",
       "    }\n",
       "\n",
       "    .dataframe thead th {\n",
       "        text-align: right;\n",
       "    }\n",
       "</style>\n",
       "<table border=\"1\" class=\"dataframe\">\n",
       "  <thead>\n",
       "    <tr style=\"text-align: right;\">\n",
       "      <th></th>\n",
       "      <th>Positive affect</th>\n",
       "      <th>Negative affect</th>\n",
       "      <th>Social support</th>\n",
       "      <th>Freedom</th>\n",
       "      <th>Corruption</th>\n",
       "      <th>Generosity</th>\n",
       "      <th>Log of GDP\\nper capita</th>\n",
       "      <th>Healthy life\\nexpectancy</th>\n",
       "    </tr>\n",
       "  </thead>\n",
       "  <tbody>\n",
       "    <tr>\n",
       "      <th>0</th>\n",
       "      <td>41.0</td>\n",
       "      <td>10.0</td>\n",
       "      <td>2.0</td>\n",
       "      <td>5.0</td>\n",
       "      <td>4.0</td>\n",
       "      <td>47.0</td>\n",
       "      <td>22.0</td>\n",
       "      <td>27.0</td>\n",
       "    </tr>\n",
       "    <tr>\n",
       "      <th>1</th>\n",
       "      <td>24.0</td>\n",
       "      <td>26.0</td>\n",
       "      <td>4.0</td>\n",
       "      <td>6.0</td>\n",
       "      <td>3.0</td>\n",
       "      <td>22.0</td>\n",
       "      <td>14.0</td>\n",
       "      <td>23.0</td>\n",
       "    </tr>\n",
       "    <tr>\n",
       "      <th>2</th>\n",
       "      <td>16.0</td>\n",
       "      <td>29.0</td>\n",
       "      <td>3.0</td>\n",
       "      <td>3.0</td>\n",
       "      <td>8.0</td>\n",
       "      <td>11.0</td>\n",
       "      <td>7.0</td>\n",
       "      <td>12.0</td>\n",
       "    </tr>\n",
       "    <tr>\n",
       "      <th>3</th>\n",
       "      <td>3.0</td>\n",
       "      <td>3.0</td>\n",
       "      <td>1.0</td>\n",
       "      <td>7.0</td>\n",
       "      <td>45.0</td>\n",
       "      <td>3.0</td>\n",
       "      <td>15.0</td>\n",
       "      <td>13.0</td>\n",
       "    </tr>\n",
       "    <tr>\n",
       "      <th>4</th>\n",
       "      <td>12.0</td>\n",
       "      <td>25.0</td>\n",
       "      <td>15.0</td>\n",
       "      <td>19.0</td>\n",
       "      <td>12.0</td>\n",
       "      <td>7.0</td>\n",
       "      <td>12.0</td>\n",
       "      <td>18.0</td>\n",
       "    </tr>\n",
       "  </tbody>\n",
       "</table>\n",
       "</div>"
      ],
      "text/plain": [
       "   Positive affect  Negative affect  Social support  Freedom  Corruption  \\\n",
       "0             41.0             10.0             2.0      5.0         4.0   \n",
       "1             24.0             26.0             4.0      6.0         3.0   \n",
       "2             16.0             29.0             3.0      3.0         8.0   \n",
       "3              3.0              3.0             1.0      7.0        45.0   \n",
       "4             12.0             25.0            15.0     19.0        12.0   \n",
       "\n",
       "   Generosity  Log of GDP\\nper capita  Healthy life\\nexpectancy  \n",
       "0        47.0                    22.0                      27.0  \n",
       "1        22.0                    14.0                      23.0  \n",
       "2        11.0                     7.0                      12.0  \n",
       "3         3.0                    15.0                      13.0  \n",
       "4         7.0                    12.0                      18.0  "
      ]
     },
     "execution_count": 10,
     "metadata": {},
     "output_type": "execute_result"
    }
   ],
   "source": [
    "X = df.drop(['Ladder', 'SD of Ladder', 'Country (region)', 'continent'], axis=1)\n",
    "y = df['Ladder']\n",
    "X.head()"
   ]
  },
  {
   "cell_type": "code",
   "execution_count": 11,
   "metadata": {
    "ExecuteTime": {
     "end_time": "2020-07-23T14:08:48.083377Z",
     "start_time": "2020-07-23T14:08:48.076943Z"
    }
   },
   "outputs": [
    {
     "name": "stdout",
     "output_type": "stream",
     "text": [
      "X_train shape (124, 8) and size 992\n",
      "X_test shape (32, 8) and size 256\n",
      "y_train shape (124,) and size 124\n",
      "y_test shape (32,) and size 32\n"
     ]
    }
   ],
   "source": [
    "# data split\n",
    "X_train, X_test, y_train, y_test = train_test_split(X, y, test_size=0.2, shuffle=True)\n",
    "print(\"X_train shape {} and size {}\".format(X_train.shape, X_train.size))\n",
    "print(\"X_test shape {} and size {}\".format(X_test.shape, X_test.size))\n",
    "print(\"y_train shape {} and size {}\".format(y_train.shape, y_train.size))\n",
    "print(\"y_test shape {} and size {}\".format(y_test.shape, y_test.size))"
   ]
  },
  {
   "cell_type": "markdown",
   "metadata": {},
   "source": [
    "## Scaling data"
   ]
  },
  {
   "cell_type": "code",
   "execution_count": 12,
   "metadata": {
    "ExecuteTime": {
     "end_time": "2020-07-23T14:08:48.092573Z",
     "start_time": "2020-07-23T14:08:48.085486Z"
    }
   },
   "outputs": [
    {
     "name": "stdout",
     "output_type": "stream",
     "text": [
      "[[ 1.08139750e+00  1.36880276e+00  1.27592468e-02  1.25018429e+00\n",
      "   3.84393410e-01  1.56762922e+00  7.58332924e-01 -2.49518261e-02]\n",
      " [-8.59666817e-01 -5.64672903e-01 -2.13261696e-01 -1.70003834e+00\n",
      "   1.39489573e-03 -1.47397285e+00 -1.74705613e+00 -3.85533855e-01]\n",
      " [-1.97421343e-01 -3.80532364e-01  3.74392755e-01  4.10505544e-01\n",
      "  -3.81603619e-01  1.65979898e+00  1.03670948e+00  1.68490489e+00]\n",
      " [-1.15653548e+00  1.71889253e-01 -6.65303581e-01 -5.19949287e-01\n",
      "   1.22451918e+00  7.38101384e-01 -1.23192853e-01 -5.94904065e-01]\n",
      " [ 5.37752165e-02  5.17152764e-01 -1.47897897e+00 -1.51848618e+00\n",
      "  -1.04876232e+00 -1.70439725e+00 -1.19030300e+00 -1.33933148e+00]]\n",
      "test data\n",
      "[[ 0.96721725  1.52992573  1.52709956  0.93246801 -0.06037906  1.19895018\n",
      "   1.45427433  1.28942783]\n",
      " [ 1.21841381 -1.39330533  0.51000532  0.50128162 -1.29585814  1.54458678\n",
      "  -0.33197527  0.12625999]\n",
      " [-1.04235522 -0.24242696 -1.00433499 -0.38378517 -0.80166651 -1.54310017\n",
      "  -1.60786785 -0.87406435]\n",
      " [ 0.14511942 -0.3575148   0.53260741 -0.42917321 -0.50515153  1.63675654\n",
      "  -0.30877723  0.84742405]\n",
      " [ 1.14990566 -0.84088371 -0.5748952   1.40904244  1.69400123 -0.29880842\n",
      "   0.34076808  0.24257678]]\n"
     ]
    }
   ],
   "source": [
    "# Standardize training and test datasets.\n",
    "# ==============================================================================\n",
    "# Feature scaling is to bring all the independent variables in a dataset into\n",
    "# same scale, to avoid any variable dominating  the model. Here we will not\n",
    "# transform the dependent variables.\n",
    "# ==============================================================================\n",
    "independent_scaler = StandardScaler()\n",
    "X_train = independent_scaler.fit_transform(X_train)\n",
    "X_test = independent_scaler.transform(X_test)\n",
    "print(X_train[0:5, :])\n",
    "print(\"test data\")\n",
    "print(X_test[0:5, :])"
   ]
  },
  {
   "cell_type": "markdown",
   "metadata": {
    "ExecuteTime": {
     "end_time": "2020-07-23T02:34:20.908569Z",
     "start_time": "2020-07-23T02:34:20.906478Z"
    }
   },
   "source": [
    "## Perform Random Forest Regression"
   ]
  },
  {
   "cell_type": "code",
   "execution_count": 13,
   "metadata": {
    "ExecuteTime": {
     "end_time": "2020-07-23T14:08:48.099755Z",
     "start_time": "2020-07-23T14:08:48.094343Z"
    }
   },
   "outputs": [
    {
     "name": "stdout",
     "output_type": "stream",
     "text": [
      "features numbers:  8\n"
     ]
    }
   ],
   "source": [
    "# One Hot Encoding\n",
    "feature = pd.get_dummies(X)\n",
    "# List of features for later use\n",
    "feature_list = list(feature.columns)\n",
    "features_num = np.size(feature_list)\n",
    "# Convert to numpy arrays\n",
    "features = np.array(feature)\n",
    "print(\"features numbers: \", features_num)"
   ]
  },
  {
   "cell_type": "code",
   "execution_count": 14,
   "metadata": {
    "ExecuteTime": {
     "end_time": "2020-07-23T14:08:53.151897Z",
     "start_time": "2020-07-23T14:08:48.101467Z"
    }
   },
   "outputs": [
    {
     "name": "stdout",
     "output_type": "stream",
     "text": [
      "Training model 1 out of 21...\n",
      "ntree: 10, mtry: 1\n",
      "Found new optimal model\n",
      "RandomForestRegressor(bootstrap=True, ccp_alpha=0.0, criterion='mse',\n",
      "                      max_depth=None, max_features=1, max_leaf_nodes=None,\n",
      "                      max_samples=None, min_impurity_decrease=0.0,\n",
      "                      min_impurity_split=None, min_samples_leaf=1,\n",
      "                      min_samples_split=2, min_weight_fraction_leaf=0.0,\n",
      "                      n_estimators=10, n_jobs=None, oob_score=False,\n",
      "                      random_state=0, verbose=0, warm_start=False)\n",
      "The error of model RFR : 23.969799\n",
      "best_ntree: 10, best_mtry: 1\n",
      "========================================================================\n",
      "Training model 2 out of 21...\n",
      "ntree: 10, mtry: 2\n",
      "Found new optimal model\n",
      "RandomForestRegressor(bootstrap=True, ccp_alpha=0.0, criterion='mse',\n",
      "                      max_depth=None, max_features=2, max_leaf_nodes=None,\n",
      "                      max_samples=None, min_impurity_decrease=0.0,\n",
      "                      min_impurity_split=None, min_samples_leaf=1,\n",
      "                      min_samples_split=2, min_weight_fraction_leaf=0.0,\n",
      "                      n_estimators=10, n_jobs=None, oob_score=False,\n",
      "                      random_state=0, verbose=0, warm_start=False)\n",
      "The error of model RFR : 20.867087\n",
      "best_ntree: 10, best_mtry: 2\n",
      "========================================================================\n",
      "Training model 3 out of 21...\n",
      "ntree: 10, mtry: 5\n",
      "Found new optimal model\n",
      "RandomForestRegressor(bootstrap=True, ccp_alpha=0.0, criterion='mse',\n",
      "                      max_depth=None, max_features=5, max_leaf_nodes=None,\n",
      "                      max_samples=None, min_impurity_decrease=0.0,\n",
      "                      min_impurity_split=None, min_samples_leaf=1,\n",
      "                      min_samples_split=2, min_weight_fraction_leaf=0.0,\n",
      "                      n_estimators=10, n_jobs=None, oob_score=False,\n",
      "                      random_state=0, verbose=0, warm_start=False)\n",
      "The error of model RFR : 19.545860\n",
      "best_ntree: 10, best_mtry: 5\n",
      "========================================================================\n",
      "Training model 4 out of 21...\n",
      "ntree: 20, mtry: 1\n",
      "Training model 5 out of 21...\n",
      "ntree: 20, mtry: 2\n",
      "Training model 6 out of 21...\n",
      "ntree: 20, mtry: 5\n",
      "Found new optimal model\n",
      "RandomForestRegressor(bootstrap=True, ccp_alpha=0.0, criterion='mse',\n",
      "                      max_depth=None, max_features=5, max_leaf_nodes=None,\n",
      "                      max_samples=None, min_impurity_decrease=0.0,\n",
      "                      min_impurity_split=None, min_samples_leaf=1,\n",
      "                      min_samples_split=2, min_weight_fraction_leaf=0.0,\n",
      "                      n_estimators=20, n_jobs=None, oob_score=False,\n",
      "                      random_state=0, verbose=0, warm_start=False)\n",
      "The error of model RFR : 19.467631\n",
      "best_ntree: 20, best_mtry: 5\n",
      "========================================================================\n",
      "Training model 7 out of 21...\n",
      "ntree: 50, mtry: 1\n",
      "Training model 8 out of 21...\n",
      "ntree: 50, mtry: 2\n",
      "Training model 9 out of 21...\n",
      "ntree: 50, mtry: 5\n",
      "Training model 10 out of 21...\n",
      "ntree: 100, mtry: 1\n",
      "Training model 11 out of 21...\n",
      "ntree: 100, mtry: 2\n",
      "Training model 12 out of 21...\n",
      "ntree: 100, mtry: 5\n",
      "Training model 13 out of 21...\n",
      "ntree: 200, mtry: 1\n",
      "Training model 14 out of 21...\n",
      "ntree: 200, mtry: 2\n",
      "Training model 15 out of 21...\n",
      "ntree: 200, mtry: 5\n",
      "Training model 16 out of 21...\n",
      "ntree: 500, mtry: 1\n",
      "Training model 17 out of 21...\n",
      "ntree: 500, mtry: 2\n",
      "Training model 18 out of 21...\n",
      "ntree: 500, mtry: 5\n",
      "Training model 19 out of 21...\n",
      "ntree: 1000, mtry: 1\n",
      "Training model 20 out of 21...\n",
      "ntree: 1000, mtry: 2\n",
      "Training model 21 out of 21...\n",
      "ntree: 1000, mtry: 5\n",
      "========================================================================\n",
      "Finished tuning model\n",
      "Optimal model\n",
      "RandomForestRegressor(bootstrap=True, ccp_alpha=0.0, criterion='mse',\n",
      "                      max_depth=None, max_features=5, max_leaf_nodes=None,\n",
      "                      max_samples=None, min_impurity_decrease=0.0,\n",
      "                      min_impurity_split=None, min_samples_leaf=1,\n",
      "                      min_samples_split=2, min_weight_fraction_leaf=0.0,\n",
      "                      n_estimators=20, n_jobs=None, oob_score=False,\n",
      "                      random_state=0, verbose=0, warm_start=False)\n",
      "The error of model RFR : 19.467631\n",
      "best_ntree: 20, best_mtry: 5\n"
     ]
    }
   ],
   "source": [
    "# model apply\n",
    "ntree_list = [10, 20, 50, 100, 200, 500, 1000]\n",
    "mtry_list = [int(0.5*features_num**0.5),\n",
    "             int(features_num**0.5), int(2*features_num**0.5)]\n",
    "best_ntree = 0\n",
    "best_mtry = 0\n",
    "best_error = 9999999999999\n",
    "best_model = None\n",
    "best_y_pred = 0\n",
    "count = 0\n",
    "total_models = len(ntree_list) * len(mtry_list)\n",
    "for ntree in ntree_list:\n",
    "    for mtry in mtry_list:\n",
    "        count += 1\n",
    "        print(\"Training model %i out of %i...\" % (count, total_models))\n",
    "        print(\"ntree: %i, mtry: %i\" % (ntree, mtry))\n",
    "        rfg = RandomForestRegressor(n_estimators=ntree,\n",
    "                                    max_features=mtry,\n",
    "                                    bootstrap=True,\n",
    "                                    random_state=0)\n",
    "        rfg.fit(X_train, y_train)\n",
    "        # predict the test dataset\n",
    "        y_pred = rfg.predict(X_test)\n",
    "        # compute square root error\n",
    "        error = np.sqrt(metrics.mean_squared_error(y_test, y_pred))\n",
    "        if error < best_error:\n",
    "            best_ntree = ntree\n",
    "            best_mtry = mtry\n",
    "            best_error = error\n",
    "            best_model = rfg\n",
    "            print(\"Found new optimal model\")\n",
    "            print(best_model)\n",
    "            print(\"The error of model RFR : %6f\" % best_error)\n",
    "            print(\"best_ntree: %i, best_mtry: %i\" % (best_ntree, best_mtry))\n",
    "            print(\n",
    "                \"========================================================================\")\n",
    "# print optimal results\n",
    "print(\"========================================================================\")\n",
    "print('Finished tuning model')\n",
    "print('Optimal model')\n",
    "print(best_model)\n",
    "print(\"The error of model RFR : %6f\" % best_error)\n",
    "print(\"best_ntree: %i, best_mtry: %i\" % (best_ntree, best_mtry))"
   ]
  },
  {
   "cell_type": "markdown",
   "metadata": {},
   "source": [
    "# Result Analysis"
   ]
  },
  {
   "cell_type": "markdown",
   "metadata": {},
   "source": [
    "## Predication VS Reality"
   ]
  },
  {
   "cell_type": "code",
   "execution_count": 15,
   "metadata": {
    "ExecuteTime": {
     "end_time": "2020-07-23T14:08:53.946844Z",
     "start_time": "2020-07-23T14:08:53.154128Z"
    }
   },
   "outputs": [
    {
     "data": {
      "text/plain": [
       "<seaborn.axisgrid.JointGrid at 0x7fa648ce2cd0>"
      ]
     },
     "execution_count": 15,
     "metadata": {},
     "output_type": "execute_result"
    },
    {
     "data": {
      "image/png": "[encoded data removed]",
      "text/plain": [
       "<Figure size 1152x576 with 1 Axes>"
      ]
     },
     "metadata": {},
     "output_type": "display_data"
    },
    {
     "data": {
      "image/png": "[encoded data removed]",
      "text/plain": [
       "<Figure size 432x432 with 3 Axes>"
      ]
     },
     "metadata": {},
     "output_type": "display_data"
    }
   ],
   "source": [
    "# predict the test dataset\n",
    "y_pred = best_model.predict(X_test)\n",
    "test = pd.DataFrame({'Predicted': y_pred,\n",
    "                     'Actual': y_test})\n",
    "fig = plt.figure(figsize=(16, 8))\n",
    "test = test.reset_index()\n",
    "test = test.drop(['index'], axis=1)\n",
    "plt.plot(test[:50])\n",
    "plt.legend(['Actual', 'Predicted'])\n",
    "sns.jointplot(x='Actual', y='Predicted', data=test, kind=\"reg\",\n",
    "              joint_kws={'line_kws': {'color': 'red'}})"
   ]
  },
  {
   "cell_type": "markdown",
   "metadata": {},
   "source": [
    "## Feature Importance"
   ]
  },
  {
   "cell_type": "code",
   "execution_count": 16,
   "metadata": {
    "ExecuteTime": {
     "end_time": "2020-07-23T14:08:53.956664Z",
     "start_time": "2020-07-23T14:08:53.949419Z"
    }
   },
   "outputs": [
    {
     "name": "stdout",
     "output_type": "stream",
     "text": [
      "Variable: Social support          Importance: 0.42\n",
      "Variable: Healthy life\n",
      "expectancy    Importance: 0.27\n",
      "Variable: Log of GDP\n",
      "per capita    Importance: 0.15\n",
      "Variable: Positive affect         Importance: 0.06\n",
      "Variable: Negative affect         Importance: 0.03\n",
      "Variable: Freedom                 Importance: 0.03\n",
      "Variable: Corruption              Importance: 0.02\n",
      "Variable: Generosity              Importance: 0.02\n"
     ]
    },
    {
     "data": {
      "text/plain": [
       "[None, None, None, None, None, None, None, None]"
      ]
     },
     "execution_count": 16,
     "metadata": {},
     "output_type": "execute_result"
    }
   ],
   "source": [
    "# Get numerical feature importances\n",
    "importances = list(best_model.feature_importances_)\n",
    "# List of tuples with variable and importance\n",
    "feature_importances = [(feature, round(importance, 2))\n",
    "                       for feature, importance in zip(feature_list, importances)]\n",
    "# Sort the feature importances by most important first\n",
    "feature_importances = sorted(feature_importances, key=lambda x: x[1], reverse=True)\n",
    "# Print out the feature and importances\n",
    "[print('Variable: {:20}    Importance: {}'.format(*pair))\n",
    " for pair in feature_importances]"
   ]
  },
  {
   "cell_type": "code",
   "execution_count": 17,
   "metadata": {
    "ExecuteTime": {
     "end_time": "2020-07-23T14:08:53.962978Z",
     "start_time": "2020-07-23T14:08:53.958175Z"
    }
   },
   "outputs": [],
   "source": [
    "def features(feature_importances):\n",
    "    # sorted importances of features\n",
    "    feature_list = [x[0] for x in feature_importances][::-1]\n",
    "    importances = [x[1] for x in feature_importances][::-1]\n",
    "    # list of x locations for plotting\n",
    "    y_values = list(range(len(importances)))\n",
    "    # Make a bar chart\n",
    "    plt.barh(y_values, importances, orientation='horizontal',\n",
    "             color='r', edgecolor='k', linewidth=1.2)\n",
    "    # Tick labels for x axis\n",
    "    plt.yticks(y_values, feature_list, rotation='horizontal')\n",
    "    # Axis labels and title\n",
    "    plt.xlabel('Importance')\n",
    "    plt.ylabel('Feature')\n",
    "    plt.title('Feature Importance')\n",
    "    plt.show()"
   ]
  },
  {
   "cell_type": "code",
   "execution_count": 18,
   "metadata": {
    "ExecuteTime": {
     "end_time": "2020-07-23T14:08:54.186923Z",
     "start_time": "2020-07-23T14:08:53.965286Z"
    }
   },
   "outputs": [
    {
     "data": {
      "image/png": "[encoded data removed]",
      "text/plain": [
       "<Figure size 432x288 with 1 Axes>"
      ]
     },
     "metadata": {},
     "output_type": "display_data"
    }
   ],
   "source": [
    "# feature importance\n",
    "features(feature_importances)"
   ]
  },
  {
   "cell_type": "markdown",
   "metadata": {
    "ExecuteTime": {
     "end_time": "2020-07-23T03:01:11.506936Z",
     "start_time": "2020-07-23T03:01:11.504746Z"
    }
   },
   "source": [
    "## Result Evealuation"
   ]
  },
  {
   "cell_type": "code",
   "execution_count": 19,
   "metadata": {
    "ExecuteTime": {
     "end_time": "2020-07-23T14:08:54.192700Z",
     "start_time": "2020-07-23T14:08:54.188417Z"
    }
   },
   "outputs": [
    {
     "name": "stdout",
     "output_type": "stream",
     "text": [
      "MAE 14.735937499999999\n",
      "MSE 378.988671875\n",
      "RMSE 19.46763138840984\n"
     ]
    }
   ],
   "source": [
    "# Evaluate the data\n",
    "from sklearn import metrics\n",
    "print(\"MAE\", metrics.mean_absolute_error(y_test, y_pred))\n",
    "print(\"MSE\", metrics.mean_squared_error(y_test, y_pred))\n",
    "print(\"RMSE\", np.sqrt(metrics.mean_squared_error(y_test, y_pred)))"
   ]
  },
  {
   "cell_type": "code",
   "execution_count": 20,
   "metadata": {
    "ExecuteTime": {
     "end_time": "2020-07-23T14:08:54.198085Z",
     "start_time": "2020-07-23T14:08:54.194551Z"
    }
   },
   "outputs": [
    {
     "data": {
      "text/plain": [
       "0.8339077960762831"
      ]
     },
     "execution_count": 20,
     "metadata": {},
     "output_type": "execute_result"
    }
   ],
   "source": [
    "from sklearn import metrics\n",
    "metrics.r2_score(y_test,y_pred)"
   ]
  },
  {
   "cell_type": "code",
   "execution_count": null,
   "metadata": {},
   "outputs": [],
   "source": []
  }
 ],
 "metadata": {
  "kernelspec": {
   "display_name": "Python 3",
   "language": "python",
   "name": "python3"
  },
  "language_info": {
   "codemirror_mode": {
    "name": "ipython",
    "version": 3
   },
   "file_extension": ".py",
   "mimetype": "text/x-python",
   "name": "python",
   "nbconvert_exporter": "python",
   "pygments_lexer": "ipython3",
   "version": "3.7.6"
  },
  "toc": {
   "base_numbering": 1,
   "nav_menu": {},
   "number_sections": true,
   "sideBar": true,
   "skip_h1_title": false,
   "title_cell": "Table of Contents",
   "title_sidebar": "Contents",
   "toc_cell": false,
   "toc_position": {},
   "toc_section_display": true,
   "toc_window_display": false
  }
 },
 "nbformat": 4,
 "nbformat_minor": 4
}
